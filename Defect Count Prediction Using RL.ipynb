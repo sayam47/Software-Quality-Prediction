{
 "cells": [
  {
   "cell_type": "code",
   "execution_count": 1,
   "metadata": {
    "colab": {
     "base_uri": "https://localhost:8080/",
     "height": 34
    },
    "colab_type": "code",
    "id": "b65bRZ0tDsmi",
    "outputId": "3e1424de-4ae8-4b0e-bdf8-efdf06dfcfe4"
   },
   "outputs": [
    {
     "name": "stdout",
     "output_type": "stream",
     "text": [
      "TensorFlow 1.x selected.\n"
     ]
    }
   ],
   "source": [
    "%tensorflow_version 1.x"
   ]
  },
  {
   "cell_type": "code",
   "execution_count": 2,
   "metadata": {
    "colab": {
     "base_uri": "https://localhost:8080/",
     "height": 34
    },
    "colab_type": "code",
    "id": "y7Rd9KjcDvMs",
    "outputId": "8cad8300-1f2f-44fd-e872-fa74cc71bc76"
   },
   "outputs": [
    {
     "name": "stdout",
     "output_type": "stream",
     "text": [
      "Requirement already satisfied: numpy==1.16.1 in /usr/local/lib/python3.6/dist-packages (1.16.1)\n"
     ]
    }
   ],
   "source": [
    "!pip install numpy==1.16.1"
   ]
  },
  {
   "cell_type": "code",
   "execution_count": 0,
   "metadata": {
    "colab": {},
    "colab_type": "code",
    "id": "mSMvbEHFDw2G"
   },
   "outputs": [],
   "source": [
    "import tensorflow as tf\n",
    "tf.compat.v1.logging.set_verbosity(tf.compat.v1.logging.ERROR)"
   ]
  },
  {
   "cell_type": "code",
   "execution_count": 4,
   "metadata": {
    "colab": {
     "base_uri": "https://localhost:8080/",
     "height": 34
    },
    "colab_type": "code",
    "id": "zQb5PfPpDyVu",
    "outputId": "f38cc92e-f4c2-4c54-d08a-26686f0f1e00"
   },
   "outputs": [
    {
     "name": "stderr",
     "output_type": "stream",
     "text": [
      "Using TensorFlow backend.\n"
     ]
    }
   ],
   "source": [
    "# Seed value\n",
    "# Apparently you may use different seed values at each stage\n",
    "seed_value= 0\n",
    "\n",
    "# 1. Set the `PYTHONHASHSEED` environment variable at a fixed value\n",
    "import os\n",
    "os.environ['PYTHONHASHSEED']=str(seed_value)\n",
    "\n",
    "# 2. Set the `python` built-in pseudo-random generator at a fixed value\n",
    "import random\n",
    "random.seed(seed_value)\n",
    "\n",
    "# 3. Set the `numpy` pseudo-random generator at a fixed value\n",
    "import numpy as np\n",
    "np.random.seed(seed_value)\n",
    "\n",
    "# 4. Set the `tensorflow` pseudo-random generator at a fixed value\n",
    "import tensorflow as tf\n",
    "# tf.random.set_seed(seed_value)\n",
    "# for later versions: \n",
    "tf.compat.v1.set_random_seed(seed_value)\n",
    "\n",
    "# 5. Configure a new global `tensorflow` session\n",
    "from keras import backend as K\n",
    "session_conf = tf.ConfigProto(intra_op_parallelism_threads=1, inter_op_parallelism_threads=1)\n",
    "sess = tf.Session(graph=tf.get_default_graph(), config=session_conf)\n",
    "K.set_session(sess)\n",
    "# for later versions:\n",
    "# session_conf = tf.compat.v1.ConfigProto(intra_op_parallelism_threads=1, inter_op_parallelism_threads=1)\n",
    "# sess = tf.compat.v1.Session(graph=tf.compat.v1.get_default_graph(), config=session_conf)\n",
    "# tf.compat.v1.keras.backend.set_session(sess)"
   ]
  },
  {
   "cell_type": "code",
   "execution_count": 0,
   "metadata": {
    "colab": {},
    "colab_type": "code",
    "id": "hnI0Dk_EDzko"
   },
   "outputs": [],
   "source": [
    "from sklearn.model_selection import train_test_split\n",
    "from sklearn.preprocessing import MinMaxScaler\n",
    "from sklearn.utils import shuffle\n",
    "from sklearn.metrics import confusion_matrix,f1_score,accuracy_score\n",
    "\n",
    "from keras.models import Sequential\n",
    "from keras.layers import Dense, Activation\n",
    "from keras.optimizers import SGD, Adadelta, Adam\n",
    "from keras.initializers import RandomUniform\n",
    "\n",
    "from time import sleep,time\n",
    "import numpy as np\n",
    "import pandas as pd\n",
    "import random\n",
    "import gym\n",
    "import sys\n",
    "from tqdm import tqdm\n",
    "import matplotlib.pyplot as plt\n",
    "\n",
    "import warnings\n",
    "warnings.filterwarnings('ignore')\n"
   ]
  },
  {
   "cell_type": "code",
   "execution_count": 0,
   "metadata": {
    "colab": {},
    "colab_type": "code",
    "id": "HKzjbMW8D0t-"
   },
   "outputs": [],
   "source": [
    "class Environment:\n",
    "    def __init__(self , dataset_name = \"ant-1.3.csv\" , minority_class = [1,2,3] , lambd = 0.9 , test_size = 0.2):\n",
    "        self.X,self.y ,self.X_test,self.y_test = self.load_data(dataset_name , test_size)\n",
    "        self.observation_space = self.X.shape[1]\n",
    "        self.action_space = 4\n",
    "        self.terminal = False\n",
    "        self.minority_class = minority_class\n",
    "        self.lambd = lambd\n",
    "        self.number_of_examples = self.X.shape[0]\n",
    "\n",
    "    def load_data(self , dataset_name , test_size):\n",
    "        data = pd.read_csv(dataset_name)\n",
    "        X = MinMaxScaler().fit_transform(data.values[:,3:-1])\n",
    "        y = data.values[:,-1]\n",
    "        X_train, X_test, y_train, y_test = train_test_split(X, y, test_size=test_size, random_state=1)\n",
    "        return X_train,y_train,X_test,y_test\n",
    "\n",
    "    def reset(self):\n",
    "        self.X, self.y = shuffle(self.X, self.y)\n",
    "        self.terminal = False\n",
    "\n",
    "    def step(self , action ,label):\n",
    "        reward = 0\n",
    "        if label in self.minority_class:\n",
    "            if action == label:\n",
    "                reward = 1\n",
    "            else:\n",
    "                reward = -1\n",
    "                self.terminal = True\n",
    "        else:\n",
    "            if action == label:\n",
    "                reward = self.lambd\n",
    "            else:\n",
    "                reward = -self.lambd\n",
    "        return reward , self.terminal"
   ]
  },
  {
   "cell_type": "code",
   "execution_count": 7,
   "metadata": {
    "colab": {
     "base_uri": "https://localhost:8080/",
     "height": 255
    },
    "colab_type": "code",
    "id": "YdMb6DUGD23A",
    "outputId": "6536c725-d781-4bf1-8758-df3be84bb0e3"
   },
   "outputs": [
    {
     "name": "stdout",
     "output_type": "stream",
     "text": [
      "Model: \"sequential_1\"\n",
      "_________________________________________________________________\n",
      "Layer (type)                 Output Shape              Param #   \n",
      "=================================================================\n",
      "dense_1 (Dense)              (None, 24)                504       \n",
      "_________________________________________________________________\n",
      "dense_2 (Dense)              (None, 24)                600       \n",
      "_________________________________________________________________\n",
      "dense_3 (Dense)              (None, 4)                 100       \n",
      "=================================================================\n",
      "Total params: 1,204\n",
      "Trainable params: 1,204\n",
      "Non-trainable params: 0\n",
      "_________________________________________________________________\n"
     ]
    }
   ],
   "source": [
    "# Environment\n",
    "env = Environment()\n",
    "inputCount = env.observation_space\n",
    "actionsCount = env.action_space\n",
    "\n",
    "# Neural Network\n",
    "model = Sequential()\n",
    "model.add(Dense(24, input_dim=inputCount, activation='relu'))\n",
    "model.add(Dense(24, activation='relu'))\n",
    "model.add(Dense(actionsCount, activation='linear'))\n",
    "\n",
    "model.compile(loss='mse', optimizer=Adam(), metrics=['mae'])\n",
    "model.summary()\n",
    "\n",
    "#Initialize Memory And Epsilon\n",
    "memory = ([],[],[],[],[])\n",
    "epsilon = 1.0"
   ]
  },
  {
   "cell_type": "code",
   "execution_count": 0,
   "metadata": {
    "colab": {},
    "colab_type": "code",
    "id": "k3F7puQjD74z"
   },
   "outputs": [],
   "source": [
    "def score(env , model):\n",
    "    X_train = env.X\n",
    "    y_train = env.y\n",
    "    X_test = env.X_test\n",
    "    y_test = env.y_test\n",
    "    train_pred = model.predict(X_train.reshape((X_train.shape[0],X_train.shape[1])))\n",
    "    test_pred = model.predict(X_test.reshape((X_test.shape[0],X_train.shape[1])))\n",
    "    train_pred = np.argmax(train_pred , axis = 1)\n",
    "    test_pred = np.argmax(test_pred , axis = 1)\n",
    "    print(\"On Training Data \" , end = \"\\t\")\n",
    "    print(\"F1 Score =\" , f1_score(train_pred.astype(int) , y_train.astype(int) , labels = [0,1,2,3],average = \"micro\") , end = \"\\t\")\n",
    "    print(\"Accuracy =\" , accuracy_score(train_pred.astype(int) , y_train.astype(int)))\n",
    "    print(\"On Testing Data \" , end = \"\\t\")\n",
    "    print(\"F1 Score =\" , f1_score(test_pred.astype(int) , y_test.astype(int) , labels = [0,1,2,3], average = \"micro\") , end = \"\\t\")\n",
    "    print(\"Accuracy =\" , accuracy_score(test_pred.astype(int) , y_test.astype(int)))"
   ]
  },
  {
   "cell_type": "code",
   "execution_count": 0,
   "metadata": {
    "colab": {},
    "colab_type": "code",
    "id": "h9L9sCNsEhsw"
   },
   "outputs": [],
   "source": [
    "def replay_memory(model , memory , batch_size = 64 , gamma = 1.0 , actionsCount = 2 , epochs = 1 , verbose = 0):\n",
    "    rand_nums = np.random.randint(0, len(memory), size=batch_size)\n",
    "    states = memory[0][rand_nums]\n",
    "    action = memory[1][rand_nums]\n",
    "    rewards = memory[2][rand_nums]\n",
    "    next_states = memory[3][rand_nums]\n",
    "    done = memory[4][rand_nums].astype(int)\n",
    "\n",
    "    target = rewards + (gamma * np.multiply((done+1)%2 , np.max(model.predict(next_states) , axis = 1)))\n",
    "    target_f = []\n",
    "    if gamma == 0:\n",
    "        target_f = np.zeros((batch_size , actionsCount))\n",
    "    if gamma != 0:\n",
    "        target_f = model.predict(states)\n",
    "    for i in range(actionsCount):\n",
    "        ind = np.where(action == i)\n",
    "        target_f[ind,i] = target[ind]\n",
    "    targets = target_f\n",
    "\n",
    "    model.fit(states, targets, epochs=epochs, verbose=verbose)\n",
    "    return model\n"
   ]
  },
  {
   "cell_type": "code",
   "execution_count": 0,
   "metadata": {
    "colab": {},
    "colab_type": "code",
    "id": "H8mlGv4lEs6W"
   },
   "outputs": [],
   "source": [
    "def dqn_train(env , model , episodes = 5000 , gamma = 1.0 ,epsilon = 1.0 , epsilonMin = 0.01 , epsilonDecay = 0.999 , memory = ([],[],[],[],[]) ,batch_size = 64 , memoryMax = 500000 , resume_training = False , model_filename = None , save_model_filename = \"weights.h5\"):\n",
    "    if resume_training:\n",
    "        model.load_weights(model_filename)\n",
    "    inputCount = env.observation_space\n",
    "    actionsCount = env.action_space\n",
    "    \n",
    "    # Training\n",
    "    all_scores = []\n",
    "    l_states = memory[0]\n",
    "    l_actions = memory[1]\n",
    "    l_rewards = memory[2]\n",
    "    l_next_states = memory[3]\n",
    "    l_done = memory[4]\n",
    "\n",
    "    for e in tqdm(range(episodes)):\n",
    "        env.reset()\n",
    "        s = np.expand_dims(env.X[0],axis = 0)\n",
    "        l = env.y[0]\n",
    "        done = False\n",
    "        for ind in range(1 , env.number_of_examples - 1):\n",
    "            # Act greedy sometimes\n",
    "            if np.random.rand() <= epsilon:\n",
    "                a = random.randrange(actionsCount)\n",
    "            else:\n",
    "                a = np.argmax(model.predict(s))\n",
    "\n",
    "            r, done = env.step(a , l)\n",
    "            \n",
    "            newS = np.expand_dims(env.X[ind] , axis = 0)\n",
    "\n",
    "            if len(l_states) == 0:\n",
    "                l_states = s\n",
    "                l_actions = [a]\n",
    "                l_rewards = [r]\n",
    "                l_next_states = newS\n",
    "                l_done = [done]\n",
    "            else:\n",
    "                l_states = np.append(l_states , s , axis = 0)\n",
    "                l_actions = np.append(l_actions , [a] , axis = 0)\n",
    "                l_rewards = np.append(l_rewards , [r] , axis = 0)\n",
    "                l_next_states = np.append(l_next_states , newS , axis = 0)\n",
    "                l_done = np.append(l_done , [done] , axis = 0)\n",
    "\n",
    "            # free first items in memory\n",
    "            if len(l_states)>=memoryMax:\n",
    "                l_states = l_states[5000:]\n",
    "                l_actions = l_actions[5000:]\n",
    "                l_rewards = l_rewards[5000:]\n",
    "                l_next_states = l_next_states[5000:]\n",
    "                l_done = l_done[5000:]\n",
    "\n",
    "            if done:\n",
    "                # print(\"\\repisode: {}/{}, score: {}\".format(e, episodes, ind) , end = \"\")\n",
    "                # sys.stdout.flush()\n",
    "                all_scores.append(ind)\n",
    "                break\n",
    "\n",
    "            # State\n",
    "            s = np.expand_dims(env.X[ind] , axis = 0)\n",
    "            l = env.y[ind]\n",
    "\n",
    "        memory = (l_states , l_actions , l_rewards , l_next_states , l_done)\n",
    "\n",
    "        if epsilon > epsilonMin:\n",
    "            epsilon *= epsilonDecay\n",
    "\n",
    "        # Replay memory\n",
    "        if len(l_states) > batch_size:\n",
    "            model = replay_memory(model , memory , batch_size = batch_size , gamma = gamma , actionsCount = actionsCount , epochs = 1 , verbose = 0)\n",
    "\n",
    "        if (e+1)%200 == 0:\n",
    "            print(\"\\n\")\n",
    "            print(\"-\"*40 , e+1 , \"-\"*40)\n",
    "            score(env , model)\n",
    "            print(\"-\"*42 , \"-\"*42)\n",
    "\n",
    "    print()\n",
    "    print(np.average(all_scores))\n",
    "\n",
    "    # Save weights\n",
    "    model.save_weights(save_model_filename)\n",
    "\n",
    "    return model,memory,epsilon\n"
   ]
  },
  {
   "cell_type": "code",
   "execution_count": 11,
   "metadata": {
    "colab": {
     "base_uri": "https://localhost:8080/",
     "height": 578
    },
    "colab_type": "code",
    "id": "3EhISraJE-Gb",
    "outputId": "8932f7a9-d644-4a42-97e0-a3dcf145b5c9"
   },
   "outputs": [
    {
     "name": "stderr",
     "output_type": "stream",
     "text": [
      " 20%|██        | 203/1000 [00:04<00:40, 19.61it/s]"
     ]
    },
    {
     "name": "stdout",
     "output_type": "stream",
     "text": [
      "\n",
      "\n",
      "---------------------------------------- 200 ----------------------------------------\n",
      "On Training Data \tF1 Score = 0.75\tAccuracy = 0.75\n",
      "On Testing Data \tF1 Score = 0.68\tAccuracy = 0.68\n",
      "------------------------------------------ ------------------------------------------\n"
     ]
    },
    {
     "name": "stderr",
     "output_type": "stream",
     "text": [
      " 40%|████      | 403/1000 [00:15<00:31, 18.95it/s]"
     ]
    },
    {
     "name": "stdout",
     "output_type": "stream",
     "text": [
      "\n",
      "\n",
      "---------------------------------------- 400 ----------------------------------------\n",
      "On Training Data \tF1 Score = 0.75\tAccuracy = 0.75\n",
      "On Testing Data \tF1 Score = 0.68\tAccuracy = 0.68\n",
      "------------------------------------------ ------------------------------------------\n"
     ]
    },
    {
     "name": "stderr",
     "output_type": "stream",
     "text": [
      " 60%|██████    | 603/1000 [00:26<00:21, 18.09it/s]"
     ]
    },
    {
     "name": "stdout",
     "output_type": "stream",
     "text": [
      "\n",
      "\n",
      "---------------------------------------- 600 ----------------------------------------\n",
      "On Training Data \tF1 Score = 0.74\tAccuracy = 0.74\n",
      "On Testing Data \tF1 Score = 0.68\tAccuracy = 0.68\n",
      "------------------------------------------ ------------------------------------------\n"
     ]
    },
    {
     "name": "stderr",
     "output_type": "stream",
     "text": [
      " 80%|████████  | 801/1000 [00:37<00:13, 14.92it/s]"
     ]
    },
    {
     "name": "stdout",
     "output_type": "stream",
     "text": [
      "\n",
      "\n",
      "---------------------------------------- 800 ----------------------------------------\n",
      "On Training Data \tF1 Score = 0.75\tAccuracy = 0.75\n",
      "On Testing Data \tF1 Score = 0.68\tAccuracy = 0.68\n",
      "------------------------------------------ ------------------------------------------\n"
     ]
    },
    {
     "name": "stderr",
     "output_type": "stream",
     "text": [
      "100%|██████████| 1000/1000 [00:49<00:00, 20.26it/s]\n"
     ]
    },
    {
     "name": "stdout",
     "output_type": "stream",
     "text": [
      "\n",
      "\n",
      "---------------------------------------- 1000 ----------------------------------------\n",
      "On Training Data \tF1 Score = 0.7299999999999999\tAccuracy = 0.73\n",
      "On Testing Data \tF1 Score = 0.64\tAccuracy = 0.64\n",
      "------------------------------------------ ------------------------------------------\n",
      "\n",
      "8.26\n"
     ]
    }
   ],
   "source": [
    "model , memory , epsilon = dqn_train(env = env , model = model , memory = memory , epsilon = epsilon , memoryMax = 50000 , batch_size = 1024, episodes = 1000)"
   ]
  },
  {
   "cell_type": "code",
   "execution_count": 0,
   "metadata": {
    "colab": {},
    "colab_type": "code",
    "id": "MooD4tDuE-4p"
   },
   "outputs": [],
   "source": []
  }
 ],
 "metadata": {
  "colab": {
   "name": "Untitled8.ipynb",
   "provenance": []
  },
  "kernelspec": {
   "display_name": "Python 3",
   "language": "python",
   "name": "python3"
  },
  "language_info": {
   "codemirror_mode": {
    "name": "ipython",
    "version": 3
   },
   "file_extension": ".py",
   "mimetype": "text/x-python",
   "name": "python",
   "nbconvert_exporter": "python",
   "pygments_lexer": "ipython3",
   "version": "3.6.9"
  }
 },
 "nbformat": 4,
 "nbformat_minor": 1
}